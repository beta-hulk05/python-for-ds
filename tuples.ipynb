{
 "cells": [
  {
   "cell_type": "markdown",
   "id": "e1ae7334",
   "metadata": {},
   "source": [
    "## Tuples\n"
   ]
  },
  {
   "cell_type": "code",
   "execution_count": 1,
   "id": "161bb6d6",
   "metadata": {},
   "outputs": [],
   "source": [
    "t = (1,2,3,4) ## round brackets"
   ]
  },
  {
   "cell_type": "code",
   "execution_count": 2,
   "id": "6aff7b92",
   "metadata": {},
   "outputs": [
    {
     "data": {
      "text/plain": [
       "tuple"
      ]
     },
     "execution_count": 2,
     "metadata": {},
     "output_type": "execute_result"
    }
   ],
   "source": [
    "type(t)"
   ]
  },
  {
   "cell_type": "code",
   "execution_count": 3,
   "id": "a6145cfd",
   "metadata": {},
   "outputs": [],
   "source": [
    "t2 = 1,2,3,4,4"
   ]
  },
  {
   "cell_type": "code",
   "execution_count": 4,
   "id": "e3b750ed",
   "metadata": {},
   "outputs": [
    {
     "data": {
      "text/plain": [
       "tuple"
      ]
     },
     "execution_count": 4,
     "metadata": {},
     "output_type": "execute_result"
    }
   ],
   "source": [
    "type(t2)"
   ]
  },
  {
   "cell_type": "code",
   "execution_count": 5,
   "id": "2859bff2",
   "metadata": {},
   "outputs": [
    {
     "data": {
      "text/plain": [
       "5"
      ]
     },
     "execution_count": 5,
     "metadata": {},
     "output_type": "execute_result"
    }
   ],
   "source": [
    "len(t2)"
   ]
  },
  {
   "cell_type": "code",
   "execution_count": 6,
   "id": "fd2bd68f",
   "metadata": {},
   "outputs": [],
   "source": [
    "t1 = ('hello', 5,5,6,[7,8,8]) ## list in tuple"
   ]
  },
  {
   "cell_type": "code",
   "execution_count": 8,
   "id": "6116ff7a",
   "metadata": {},
   "outputs": [],
   "source": [
    "t2 = ('hello', 3,4,5,(3,6)) ## tuple in tuple"
   ]
  },
  {
   "cell_type": "code",
   "execution_count": 9,
   "id": "5edc5ab7",
   "metadata": {},
   "outputs": [],
   "source": [
    "var = t2[4]"
   ]
  },
  {
   "cell_type": "code",
   "execution_count": 10,
   "id": "29689bd1",
   "metadata": {},
   "outputs": [
    {
     "data": {
      "text/plain": [
       "tuple"
      ]
     },
     "execution_count": 10,
     "metadata": {},
     "output_type": "execute_result"
    }
   ],
   "source": [
    "type(var)"
   ]
  },
  {
   "cell_type": "code",
   "execution_count": 11,
   "id": "55fda7af",
   "metadata": {},
   "outputs": [
    {
     "name": "stdout",
     "output_type": "stream",
     "text": [
      "(3, 6)\n"
     ]
    }
   ],
   "source": [
    "print(var)"
   ]
  },
  {
   "cell_type": "code",
   "execution_count": 12,
   "id": "9b4ee612",
   "metadata": {},
   "outputs": [
    {
     "data": {
      "text/plain": [
       "6"
      ]
     },
     "execution_count": 12,
     "metadata": {},
     "output_type": "execute_result"
    }
   ],
   "source": [
    "var[1]"
   ]
  },
  {
   "cell_type": "code",
   "execution_count": null,
   "id": "81bca909",
   "metadata": {},
   "outputs": [
    {
     "name": "stdout",
     "output_type": "stream",
     "text": [
      "(1,)\n",
      "<class 'tuple'>\n"
     ]
    }
   ],
   "source": [
    "## single valued tuple\n",
    "t2 = 1, ## add comma at last\n",
    "print(t2)\n",
    "print(type(t2))"
   ]
  },
  {
   "cell_type": "code",
   "execution_count": 15,
   "id": "7ca0eb1c",
   "metadata": {},
   "outputs": [],
   "source": [
    "## these are not tuple\n",
    "t2 = 1\n",
    "t3 = (3)"
   ]
  },
  {
   "cell_type": "markdown",
   "id": "ad22d5da",
   "metadata": {},
   "source": [
    "### Indexing in tuple"
   ]
  },
  {
   "cell_type": "code",
   "execution_count": 20,
   "id": "63b9bbde",
   "metadata": {},
   "outputs": [
    {
     "data": {
      "text/plain": [
       "5"
      ]
     },
     "execution_count": 20,
     "metadata": {},
     "output_type": "execute_result"
    }
   ],
   "source": [
    "t = ('Mumbai', 10, 'Python', 100, 'Delhi')\n",
    "len(t)"
   ]
  },
  {
   "cell_type": "code",
   "execution_count": null,
   "id": "eb1f6ce7",
   "metadata": {},
   "outputs": [
    {
     "data": {
      "text/plain": [
       "('Python',)"
      ]
     },
     "execution_count": 24,
     "metadata": {},
     "output_type": "execute_result"
    }
   ],
   "source": [
    "t[2:3] ##last index not include"
   ]
  },
  {
   "cell_type": "code",
   "execution_count": 25,
   "id": "cb2036bc",
   "metadata": {},
   "outputs": [
    {
     "data": {
      "text/plain": [
       "'WORLD'"
      ]
     },
     "execution_count": 25,
     "metadata": {},
     "output_type": "execute_result"
    }
   ],
   "source": [
    "str1 = \"HELLO WORLD\"\n",
    "str1[6:]"
   ]
  },
  {
   "cell_type": "code",
   "execution_count": 26,
   "id": "059c749e",
   "metadata": {},
   "outputs": [
    {
     "data": {
      "text/plain": [
       "('Mumbai', 10)"
      ]
     },
     "execution_count": 26,
     "metadata": {},
     "output_type": "execute_result"
    }
   ],
   "source": [
    "## slicing first 2 elements from t\n",
    "t = (\"Mumbai\", 10, \"Python\", 100 )\n",
    "t[0:2]"
   ]
  },
  {
   "cell_type": "code",
   "execution_count": 27,
   "id": "b54a66ed",
   "metadata": {},
   "outputs": [
    {
     "data": {
      "text/plain": [
       "('Python', 100)"
      ]
     },
     "execution_count": 27,
     "metadata": {},
     "output_type": "execute_result"
    }
   ],
   "source": [
    "t[2:]"
   ]
  },
  {
   "cell_type": "code",
   "execution_count": 28,
   "id": "4f405cce",
   "metadata": {},
   "outputs": [
    {
     "data": {
      "text/plain": [
       "('Python', 100)"
      ]
     },
     "execution_count": 28,
     "metadata": {},
     "output_type": "execute_result"
    }
   ],
   "source": [
    "t[-2:]"
   ]
  },
  {
   "cell_type": "code",
   "execution_count": 30,
   "id": "76f29685",
   "metadata": {},
   "outputs": [
    {
     "name": "stdout",
     "output_type": "stream",
     "text": [
      "(1, 2, 23, 4, 5, 5, 6, 8, 9, 5, 4)\n"
     ]
    }
   ],
   "source": [
    "## concatenation\n",
    "tuple1 = (1,2,23,4,5,5)\n",
    "tuple2 = (6,8,9,5,4)\n",
    "tuple3 = tuple1+ tuple2\n",
    "print(tuple3)"
   ]
  },
  {
   "cell_type": "code",
   "execution_count": 31,
   "id": "83377e74",
   "metadata": {},
   "outputs": [
    {
     "data": {
      "text/plain": [
       "40"
      ]
     },
     "execution_count": 31,
     "metadata": {},
     "output_type": "execute_result"
    }
   ],
   "source": [
    "## sum of elements\n",
    "sum(tuple1)"
   ]
  },
  {
   "cell_type": "code",
   "execution_count": 32,
   "id": "fdd4761a",
   "metadata": {},
   "outputs": [
    {
     "data": {
      "text/plain": [
       "1"
      ]
     },
     "execution_count": 32,
     "metadata": {},
     "output_type": "execute_result"
    }
   ],
   "source": [
    "min(tuple1)"
   ]
  },
  {
   "cell_type": "code",
   "execution_count": 33,
   "id": "d832a214",
   "metadata": {},
   "outputs": [
    {
     "data": {
      "text/plain": [
       "23"
      ]
     },
     "execution_count": 33,
     "metadata": {},
     "output_type": "execute_result"
    }
   ],
   "source": [
    "max(tuple1)"
   ]
  },
  {
   "cell_type": "code",
   "execution_count": 34,
   "id": "750b23c8",
   "metadata": {},
   "outputs": [],
   "source": [
    "t = (1,2,4,'hello')"
   ]
  },
  {
   "cell_type": "code",
   "execution_count": 35,
   "id": "4c739f78",
   "metadata": {},
   "outputs": [
    {
     "ename": "TypeError",
     "evalue": "unsupported operand type(s) for +: 'int' and 'str'",
     "output_type": "error",
     "traceback": [
      "\u001b[1;31m---------------------------------------------------------------------------\u001b[0m",
      "\u001b[1;31mTypeError\u001b[0m                                 Traceback (most recent call last)",
      "Cell \u001b[1;32mIn[35], line 1\u001b[0m\n\u001b[1;32m----> 1\u001b[0m \u001b[38;5;28;43msum\u001b[39;49m\u001b[43m(\u001b[49m\u001b[43mt\u001b[49m\u001b[43m)\u001b[49m\n",
      "\u001b[1;31mTypeError\u001b[0m: unsupported operand type(s) for +: 'int' and 'str'"
     ]
    }
   ],
   "source": [
    "sum(t)"
   ]
  },
  {
   "cell_type": "markdown",
   "id": "0c9d98e6",
   "metadata": {},
   "source": [
    "### Immutability"
   ]
  },
  {
   "cell_type": "code",
   "execution_count": 39,
   "id": "ce88a7a5",
   "metadata": {},
   "outputs": [],
   "source": [
    "list1 = [\"Bio\", \"Chem\", \"Phy\", \"math\"]\n"
   ]
  },
  {
   "cell_type": "code",
   "execution_count": 41,
   "id": "d8925572",
   "metadata": {},
   "outputs": [
    {
     "name": "stdout",
     "output_type": "stream",
     "text": [
      "['computer', 'Chem', 'Phy', 'math']\n"
     ]
    }
   ],
   "source": [
    "list1[0] = \"computer\"\n",
    "print(list1)"
   ]
  },
  {
   "cell_type": "code",
   "execution_count": 42,
   "id": "ad7c27b6",
   "metadata": {},
   "outputs": [
    {
     "ename": "TypeError",
     "evalue": "'tuple' object does not support item assignment",
     "output_type": "error",
     "traceback": [
      "\u001b[1;31m---------------------------------------------------------------------------\u001b[0m",
      "\u001b[1;31mTypeError\u001b[0m                                 Traceback (most recent call last)",
      "Cell \u001b[1;32mIn[42], line 2\u001b[0m\n\u001b[0;32m      1\u001b[0m tuple_1 \u001b[38;5;241m=\u001b[39m (\u001b[38;5;124m\"\u001b[39m\u001b[38;5;124mBio\u001b[39m\u001b[38;5;124m\"\u001b[39m, \u001b[38;5;124m\"\u001b[39m\u001b[38;5;124mChem\u001b[39m\u001b[38;5;124m\"\u001b[39m, \u001b[38;5;124m\"\u001b[39m\u001b[38;5;124mPhy\u001b[39m\u001b[38;5;124m\"\u001b[39m, \u001b[38;5;124m\"\u001b[39m\u001b[38;5;124mmath\u001b[39m\u001b[38;5;124m\"\u001b[39m)\n\u001b[1;32m----> 2\u001b[0m \u001b[43mtuple_1\u001b[49m\u001b[43m[\u001b[49m\u001b[38;5;241;43m0\u001b[39;49m\u001b[43m]\u001b[49m \u001b[38;5;241m=\u001b[39m \u001b[38;5;124m\"\u001b[39m\u001b[38;5;124mcomputer sc\u001b[39m\u001b[38;5;124m\"\u001b[39m\n\u001b[0;32m      3\u001b[0m \u001b[38;5;28mprint\u001b[39m(tuple_1)\n",
      "\u001b[1;31mTypeError\u001b[0m: 'tuple' object does not support item assignment"
     ]
    }
   ],
   "source": [
    "tuple_1 = (\"Bio\", \"Chem\", \"Phy\", \"math\")\n",
    "tuple_1[0] = \"computer sc\"\n",
    "print(tuple_1)"
   ]
  },
  {
   "cell_type": "code",
   "execution_count": 44,
   "id": "8d82faff",
   "metadata": {},
   "outputs": [],
   "source": [
    "## how ?\n",
    "t = ('hello', 'welcome', 5, 10, 'world', 'of', 'analytics')"
   ]
  },
  {
   "cell_type": "code",
   "execution_count": 45,
   "id": "3cee381f",
   "metadata": {},
   "outputs": [
    {
     "data": {
      "text/plain": [
       "('hello', 'welcome')"
      ]
     },
     "execution_count": 45,
     "metadata": {},
     "output_type": "execute_result"
    }
   ],
   "source": [
    "t[0:2]"
   ]
  },
  {
   "cell_type": "code",
   "execution_count": 46,
   "id": "075a0fa4",
   "metadata": {},
   "outputs": [
    {
     "data": {
      "text/plain": [
       "('world', 'of', 'analytics')"
      ]
     },
     "execution_count": 46,
     "metadata": {},
     "output_type": "execute_result"
    }
   ],
   "source": [
    "t[-3:]"
   ]
  },
  {
   "cell_type": "code",
   "execution_count": 47,
   "id": "3934c19a",
   "metadata": {},
   "outputs": [],
   "source": [
    "x = (\"to\", \"the\")\n",
    "new  = t[0:2] + x + t[-3:]"
   ]
  },
  {
   "cell_type": "code",
   "execution_count": 49,
   "id": "1779182c",
   "metadata": {},
   "outputs": [
    {
     "name": "stdout",
     "output_type": "stream",
     "text": [
      "('hello', 'welcome', 'to', 'the', 'world', 'of', 'analytics')\n",
      "7\n"
     ]
    }
   ],
   "source": [
    "print(new)\n",
    "print(len(new))"
   ]
  },
  {
   "cell_type": "markdown",
   "id": "abf87e33",
   "metadata": {},
   "source": [
    "### Sorting a tuple"
   ]
  },
  {
   "cell_type": "code",
   "execution_count": 50,
   "id": "caa5ceb9",
   "metadata": {},
   "outputs": [
    {
     "name": "stdout",
     "output_type": "stream",
     "text": [
      "[1, 2, 2, 3, 4, 56]\n",
      "<class 'list'>\n"
     ]
    }
   ],
   "source": [
    "t = (2,3,4,56,2,1)\n",
    "new_var = sorted(t)\n",
    "print(new_var)\n",
    "print(type(new_var))"
   ]
  },
  {
   "cell_type": "code",
   "execution_count": 51,
   "id": "6bdc45c8",
   "metadata": {},
   "outputs": [],
   "source": [
    "## type casting\n",
    "t2 = tuple(new_var)"
   ]
  },
  {
   "cell_type": "code",
   "execution_count": 52,
   "id": "b23b8ad4",
   "metadata": {},
   "outputs": [
    {
     "name": "stdout",
     "output_type": "stream",
     "text": [
      "(1, 2, 2, 3, 4, 56)\n"
     ]
    }
   ],
   "source": [
    "print(t2)"
   ]
  },
  {
   "cell_type": "code",
   "execution_count": null,
   "id": "81784146",
   "metadata": {},
   "outputs": [],
   "source": []
  }
 ],
 "metadata": {
  "kernelspec": {
   "display_name": "Python 3",
   "language": "python",
   "name": "python3"
  },
  "language_info": {
   "codemirror_mode": {
    "name": "ipython",
    "version": 3
   },
   "file_extension": ".py",
   "mimetype": "text/x-python",
   "name": "python",
   "nbconvert_exporter": "python",
   "pygments_lexer": "ipython3",
   "version": "3.12.4"
  }
 },
 "nbformat": 4,
 "nbformat_minor": 5
}
