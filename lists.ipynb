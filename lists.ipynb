{
 "cells": [
  {
   "cell_type": "markdown",
   "id": "1eebab13",
   "metadata": {},
   "source": [
    "### Lists\n"
   ]
  },
  {
   "cell_type": "code",
   "execution_count": null,
   "id": "f52e37fd",
   "metadata": {},
   "outputs": [],
   "source": [
    "cust_info = [\"Bhavay\", 21, \"Hong Kong\", 12000, 140000 , \"1GB\"] ## list"
   ]
  },
  {
   "cell_type": "code",
   "execution_count": 2,
   "id": "3c0b3403",
   "metadata": {},
   "outputs": [
    {
     "data": {
      "text/plain": [
       "list"
      ]
     },
     "execution_count": 2,
     "metadata": {},
     "output_type": "execute_result"
    }
   ],
   "source": [
    "type(cust_info)"
   ]
  },
  {
   "cell_type": "code",
   "execution_count": null,
   "id": "02524c84",
   "metadata": {},
   "outputs": [],
   "source": [
    "cust_info_new = (\"Bhavay\", 21, \"Hong Kong\", 12000, 140000 , \"1GB\" ) ## tuple"
   ]
  },
  {
   "cell_type": "code",
   "execution_count": 4,
   "id": "14060f50",
   "metadata": {},
   "outputs": [
    {
     "data": {
      "text/plain": [
       "tuple"
      ]
     },
     "execution_count": 4,
     "metadata": {},
     "output_type": "execute_result"
    }
   ],
   "source": [
    "type(cust_info_new)"
   ]
  },
  {
   "cell_type": "code",
   "execution_count": 1,
   "id": "c38508d4",
   "metadata": {},
   "outputs": [
    {
     "name": "stdout",
     "output_type": "stream",
     "text": [
      "3\n",
      "<class 'list'>\n"
     ]
    }
   ],
   "source": [
    "list1 = [\"India\", 5, \"Delhi\"]\n",
    "print(len(list1))\n",
    "print(type(list1))"
   ]
  },
  {
   "cell_type": "code",
   "execution_count": 2,
   "id": "350e0509",
   "metadata": {},
   "outputs": [],
   "source": [
    "## Nested list\n",
    "list2 = [\"India\", \"Delhi\", 5, 10, [\"Rajkot\", \"Chennai\"]]"
   ]
  },
  {
   "cell_type": "code",
   "execution_count": 5,
   "id": "ab87738b",
   "metadata": {},
   "outputs": [
    {
     "data": {
      "text/plain": [
       "['Rajkot', 'Chennai']"
      ]
     },
     "execution_count": 5,
     "metadata": {},
     "output_type": "execute_result"
    }
   ],
   "source": [
    "list2[4]"
   ]
  },
  {
   "cell_type": "code",
   "execution_count": 7,
   "id": "6d666639",
   "metadata": {},
   "outputs": [
    {
     "data": {
      "text/plain": [
       "'Rajkot'"
      ]
     },
     "execution_count": 7,
     "metadata": {},
     "output_type": "execute_result"
    }
   ],
   "source": [
    "list2[4][0]"
   ]
  },
  {
   "cell_type": "code",
   "execution_count": 10,
   "id": "332a2d1f",
   "metadata": {},
   "outputs": [
    {
     "data": {
      "text/plain": [
       "'Rajkot'"
      ]
     },
     "execution_count": 10,
     "metadata": {},
     "output_type": "execute_result"
    }
   ],
   "source": [
    "list2[-1][0]"
   ]
  },
  {
   "cell_type": "code",
   "execution_count": 11,
   "id": "b53b13cf",
   "metadata": {},
   "outputs": [],
   "source": [
    "## list concatenation\n",
    "list1 = [1,2,2,34,5]\n",
    "list2 = [3,7,89,3]\n",
    "new_list = list1 + list2"
   ]
  },
  {
   "cell_type": "code",
   "execution_count": 12,
   "id": "2a090221",
   "metadata": {},
   "outputs": [
    {
     "data": {
      "text/plain": [
       "[1, 2, 2, 34, 5, 3, 7, 89, 3]"
      ]
     },
     "execution_count": 12,
     "metadata": {},
     "output_type": "execute_result"
    }
   ],
   "source": [
    "new_list"
   ]
  },
  {
   "cell_type": "code",
   "execution_count": 13,
   "id": "7250c63c",
   "metadata": {},
   "outputs": [],
   "source": [
    "### add 2 elements to an existing list\n",
    "list3 = [1,2,3,4,5]\n",
    "## list4 = [5,6]\n",
    "list3 = list3 + [5,6]"
   ]
  },
  {
   "cell_type": "code",
   "execution_count": 14,
   "id": "d6be0290",
   "metadata": {},
   "outputs": [
    {
     "data": {
      "text/plain": [
       "[1, 2, 3, 4, 5, 5, 6]"
      ]
     },
     "execution_count": 14,
     "metadata": {},
     "output_type": "execute_result"
    }
   ],
   "source": [
    "list3"
   ]
  },
  {
   "cell_type": "code",
   "execution_count": 17,
   "id": "63d4ba9e",
   "metadata": {},
   "outputs": [
    {
     "name": "stdout",
     "output_type": "stream",
     "text": [
      "True\n",
      "False\n"
     ]
    }
   ],
   "source": [
    "### Membership in lists & tuple  \n",
    "## what is membership : whetehr the element is part of list or not\n",
    "list3 = [1,2,3,4]\n",
    "print(1 in list3)\n",
    "print(5 in list3)"
   ]
  },
  {
   "cell_type": "markdown",
   "id": "8ed0c199",
   "metadata": {},
   "source": [
    "## Mutability"
   ]
  },
  {
   "cell_type": "code",
   "execution_count": 18,
   "id": "5c465158",
   "metadata": {},
   "outputs": [],
   "source": [
    "list1 = [\"maths\", \"physics\", \"chemistry\", \"biology\"]"
   ]
  },
  {
   "cell_type": "code",
   "execution_count": 21,
   "id": "79d99887",
   "metadata": {},
   "outputs": [],
   "source": [
    "list1[3] = \"computer science\""
   ]
  },
  {
   "cell_type": "code",
   "execution_count": 22,
   "id": "05ad9c40",
   "metadata": {},
   "outputs": [
    {
     "name": "stdout",
     "output_type": "stream",
     "text": [
      "['maths', 'physics', 'chemistry', 'computer science']\n"
     ]
    }
   ],
   "source": [
    "print(list1)"
   ]
  },
  {
   "cell_type": "code",
   "execution_count": 24,
   "id": "0c616711",
   "metadata": {},
   "outputs": [],
   "source": [
    "## extend function ---> it extends the list\n",
    "list1 = [1,2,3,4]\n",
    "list1.extend([5,6])"
   ]
  },
  {
   "cell_type": "code",
   "execution_count": null,
   "id": "57f0613e",
   "metadata": {},
   "outputs": [
    {
     "data": {
      "text/plain": [
       "6"
      ]
     },
     "execution_count": 26,
     "metadata": {},
     "output_type": "execute_result"
    }
   ],
   "source": [
    "len(list1)"
   ]
  },
  {
   "cell_type": "code",
   "execution_count": 27,
   "id": "d1840e70",
   "metadata": {},
   "outputs": [
    {
     "name": "stdout",
     "output_type": "stream",
     "text": [
      "[1, 2, 3, 4, [5, 6]]\n"
     ]
    },
    {
     "data": {
      "text/plain": [
       "5"
      ]
     },
     "execution_count": 27,
     "metadata": {},
     "output_type": "execute_result"
    }
   ],
   "source": [
    "## append\n",
    "list1 = [1,2,3,4]\n",
    "list1.append([5,6])\n",
    "print(list1)\n",
    "len(list1)"
   ]
  },
  {
   "cell_type": "code",
   "execution_count": 30,
   "id": "fdf9f0e0",
   "metadata": {},
   "outputs": [],
   "source": [
    "### del command\n",
    "list1 = [1,2,3,4]\n",
    "del list1[1]"
   ]
  },
  {
   "cell_type": "code",
   "execution_count": 29,
   "id": "6a7542b1",
   "metadata": {},
   "outputs": [
    {
     "data": {
      "text/plain": [
       "[1, 2, 4]"
      ]
     },
     "execution_count": 29,
     "metadata": {},
     "output_type": "execute_result"
    }
   ],
   "source": [
    "list1"
   ]
  },
  {
   "cell_type": "code",
   "execution_count": null,
   "id": "c4c0042d",
   "metadata": {},
   "outputs": [],
   "source": [
    "### pop() - deletes the object based on index value\n",
    "## default value -- > removes the last element"
   ]
  }
 ],
 "metadata": {
  "kernelspec": {
   "display_name": "Python 3",
   "language": "python",
   "name": "python3"
  },
  "language_info": {
   "codemirror_mode": {
    "name": "ipython",
    "version": 3
   },
   "file_extension": ".py",
   "mimetype": "text/x-python",
   "name": "python",
   "nbconvert_exporter": "python",
   "pygments_lexer": "ipython3",
   "version": "3.12.4"
  }
 },
 "nbformat": 4,
 "nbformat_minor": 5
}
