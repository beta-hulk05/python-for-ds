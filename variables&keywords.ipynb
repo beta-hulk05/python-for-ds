{
 "cells": [
  {
   "cell_type": "markdown",
   "id": "f14a5906",
   "metadata": {},
   "source": [
    "### variables & keywords\n"
   ]
  },
  {
   "cell_type": "code",
   "execution_count": 1,
   "id": "0f838784",
   "metadata": {},
   "outputs": [],
   "source": [
    "my_age = 32"
   ]
  },
  {
   "cell_type": "code",
   "execution_count": 2,
   "id": "2e8e60d3",
   "metadata": {},
   "outputs": [
    {
     "name": "stdout",
     "output_type": "stream",
     "text": [
      "32\n"
     ]
    }
   ],
   "source": [
    "print(my_age)"
   ]
  },
  {
   "cell_type": "markdown",
   "id": "55c904a9",
   "metadata": {},
   "source": [
    "1,25, 46,786 -->Integer\n",
    "1.2, 35.6 -- >float\n",
    "\"hello\", \"world\" ---> string\n",
    "True, false ---> boolean"
   ]
  },
  {
   "cell_type": "code",
   "execution_count": 3,
   "id": "290c31f8",
   "metadata": {},
   "outputs": [
    {
     "data": {
      "text/plain": [
       "int"
      ]
     },
     "execution_count": 3,
     "metadata": {},
     "output_type": "execute_result"
    }
   ],
   "source": [
    "type(my_age) ### to find type of variable"
   ]
  },
  {
   "cell_type": "code",
   "execution_count": 4,
   "id": "d1de183c",
   "metadata": {},
   "outputs": [],
   "source": [
    "my_name = 'Bhavay Batra'"
   ]
  },
  {
   "cell_type": "code",
   "execution_count": 5,
   "id": "be6665dd",
   "metadata": {},
   "outputs": [
    {
     "name": "stdout",
     "output_type": "stream",
     "text": [
      "Bhavay Batra\n"
     ]
    },
    {
     "data": {
      "text/plain": [
       "str"
      ]
     },
     "execution_count": 5,
     "metadata": {},
     "output_type": "execute_result"
    }
   ],
   "source": [
    "print(my_name)\n",
    "type(my_name)"
   ]
  },
  {
   "cell_type": "code",
   "execution_count": 6,
   "id": "3a12bcdc",
   "metadata": {},
   "outputs": [],
   "source": [
    "a= 10.5"
   ]
  },
  {
   "cell_type": "code",
   "execution_count": 7,
   "id": "930bd5ff",
   "metadata": {},
   "outputs": [
    {
     "name": "stdout",
     "output_type": "stream",
     "text": [
      "10.5\n"
     ]
    }
   ],
   "source": [
    "print(a)"
   ]
  },
  {
   "cell_type": "code",
   "execution_count": 8,
   "id": "63d91c83",
   "metadata": {},
   "outputs": [
    {
     "data": {
      "text/plain": [
       "float"
      ]
     },
     "execution_count": 8,
     "metadata": {},
     "output_type": "execute_result"
    }
   ],
   "source": [
    "type(a)"
   ]
  },
  {
   "cell_type": "code",
   "execution_count": 9,
   "id": "006fffe8",
   "metadata": {},
   "outputs": [
    {
     "name": "stdout",
     "output_type": "stream",
     "text": [
      "<class 'str'>\n"
     ]
    }
   ],
   "source": [
    "a =\"10.5\"\n",
    "print(type(a))\n"
   ]
  },
  {
   "cell_type": "code",
   "execution_count": 10,
   "id": "47946c3f",
   "metadata": {},
   "outputs": [
    {
     "ename": "SyntaxError",
     "evalue": "invalid decimal literal (4232515679.py, line 1)",
     "output_type": "error",
     "traceback": [
      "\u001b[1;36m  Cell \u001b[1;32mIn[10], line 1\u001b[1;36m\u001b[0m\n\u001b[1;33m    5a = 10\u001b[0m\n\u001b[1;37m    ^\u001b[0m\n\u001b[1;31mSyntaxError\u001b[0m\u001b[1;31m:\u001b[0m invalid decimal literal\n"
     ]
    }
   ],
   "source": [
    "5a = 10"
   ]
  },
  {
   "cell_type": "code",
   "execution_count": 11,
   "id": "35938d52",
   "metadata": {},
   "outputs": [
    {
     "name": "stdout",
     "output_type": "stream",
     "text": [
      "10\n"
     ]
    }
   ],
   "source": [
    "a5 = 10\n",
    "print(a5)"
   ]
  },
  {
   "cell_type": "code",
   "execution_count": 12,
   "id": "55b4a56b",
   "metadata": {},
   "outputs": [],
   "source": [
    "string1 =  'hello 123 world'"
   ]
  },
  {
   "cell_type": "code",
   "execution_count": 13,
   "id": "71a0e5a8",
   "metadata": {},
   "outputs": [
    {
     "name": "stdout",
     "output_type": "stream",
     "text": [
      "hello 123 world\n"
     ]
    }
   ],
   "source": [
    "print(string1)"
   ]
  },
  {
   "cell_type": "code",
   "execution_count": 14,
   "id": "9aafad83",
   "metadata": {},
   "outputs": [],
   "source": [
    "a = 4\n",
    "b = 5\n",
    "c = a + b"
   ]
  },
  {
   "cell_type": "code",
   "execution_count": 15,
   "id": "244d4900",
   "metadata": {},
   "outputs": [
    {
     "name": "stdout",
     "output_type": "stream",
     "text": [
      "9\n"
     ]
    }
   ],
   "source": [
    "print(c)"
   ]
  },
  {
   "cell_type": "code",
   "execution_count": 17,
   "id": "c07e4aef",
   "metadata": {},
   "outputs": [
    {
     "name": "stdout",
     "output_type": "stream",
     "text": [
      "3\n"
     ]
    }
   ],
   "source": [
    "### function\n",
    "def sum_function(a, b):\n",
    "    c = a + b\n",
    "    return c\n",
    "\n",
    "print(sum_function(2,1))"
   ]
  },
  {
   "cell_type": "markdown",
   "id": "ab4cbfb7",
   "metadata": {},
   "source": [
    "### keywords\n",
    "### special reserved words which convey special meaning to interpreter or compiler"
   ]
  },
  {
   "cell_type": "code",
   "execution_count": null,
   "id": "1ab78d9e",
   "metadata": {},
   "outputs": [],
   "source": []
  }
 ],
 "metadata": {
  "kernelspec": {
   "display_name": "Python 3",
   "language": "python",
   "name": "python3"
  },
  "language_info": {
   "codemirror_mode": {
    "name": "ipython",
    "version": 3
   },
   "file_extension": ".py",
   "mimetype": "text/x-python",
   "name": "python",
   "nbconvert_exporter": "python",
   "pygments_lexer": "ipython3",
   "version": "3.12.4"
  }
 },
 "nbformat": 4,
 "nbformat_minor": 5
}
